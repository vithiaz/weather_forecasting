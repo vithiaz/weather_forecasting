{
 "cells": [
  {
   "cell_type": "code",
   "execution_count": 1,
   "id": "b99f1aa1",
   "metadata": {},
   "outputs": [],
   "source": [
    "NEURON_LAYER = 128\n",
    "EPOCH = 100\n",
    "ATTR_NOW = 'max_temp'"
   ]
  },
  {
   "cell_type": "code",
   "execution_count": 2,
   "id": "fdcacb9d",
   "metadata": {},
   "outputs": [],
   "source": [
    "attr_dict = {\n",
    "    'min_temp': ('mnt', 'Temperatur minimum'),\n",
    "    'max_temp': ('mxt', 'Temperatur maksimum'),\n",
    "    'avg_temp': ('avgt', 'Temperatur rata-rata'),\n",
    "    'humidity': ('hum', 'Kelembapan rata-rata'),\n",
    "    'sunshine': ('sun', 'Penyinaran matahari'),\n",
    "    'rainfall': ('rain', 'Curah hujan'),\n",
    "}\n",
    "\n",
    "ATTR_CODE = attr_dict[ATTR_NOW][0]\n",
    "ATTR_NAME = attr_dict[ATTR_NOW][1]"
   ]
  },
  {
   "cell_type": "code",
   "execution_count": 3,
   "id": "aae1c4b1",
   "metadata": {},
   "outputs": [],
   "source": [
    "import pandas as pd\n",
    "import numpy as np\n",
    "import matplotlib.pyplot as plt\n",
    "import tensorflow as tf\n",
    "import statsmodels.graphics.tsaplots as sgt\n",
    "\n",
    "from sklearn.metrics import mean_absolute_error, mean_squared_error\n",
    "from math import sqrt"
   ]
  },
  {
   "cell_type": "code",
   "execution_count": null,
   "id": "23bc3db7",
   "metadata": {},
   "outputs": [],
   "source": [
    "random.seed(7)"
   ]
  },
  {
   "cell_type": "code",
   "execution_count": 4,
   "id": "94fe545e",
   "metadata": {},
   "outputs": [
    {
     "data": {
      "text/html": [
       "<div>\n",
       "<style scoped>\n",
       "    .dataframe tbody tr th:only-of-type {\n",
       "        vertical-align: middle;\n",
       "    }\n",
       "\n",
       "    .dataframe tbody tr th {\n",
       "        vertical-align: top;\n",
       "    }\n",
       "\n",
       "    .dataframe thead th {\n",
       "        text-align: right;\n",
       "    }\n",
       "</style>\n",
       "<table border=\"1\" class=\"dataframe\">\n",
       "  <thead>\n",
       "    <tr style=\"text-align: right;\">\n",
       "      <th></th>\n",
       "      <th>y</th>\n",
       "    </tr>\n",
       "    <tr>\n",
       "      <th>date</th>\n",
       "      <th></th>\n",
       "    </tr>\n",
       "  </thead>\n",
       "  <tbody>\n",
       "    <tr>\n",
       "      <th>2016-01-01</th>\n",
       "      <td>27.6</td>\n",
       "    </tr>\n",
       "    <tr>\n",
       "      <th>2016-01-02</th>\n",
       "      <td>28.0</td>\n",
       "    </tr>\n",
       "    <tr>\n",
       "      <th>2016-01-03</th>\n",
       "      <td>27.9</td>\n",
       "    </tr>\n",
       "    <tr>\n",
       "      <th>2016-01-04</th>\n",
       "      <td>27.4</td>\n",
       "    </tr>\n",
       "    <tr>\n",
       "      <th>2016-01-05</th>\n",
       "      <td>27.0</td>\n",
       "    </tr>\n",
       "  </tbody>\n",
       "</table>\n",
       "</div>"
      ],
      "text/plain": [
       "               y\n",
       "date            \n",
       "2016-01-01  27.6\n",
       "2016-01-02  28.0\n",
       "2016-01-03  27.9\n",
       "2016-01-04  27.4\n",
       "2016-01-05  27.0"
      ]
     },
     "execution_count": 4,
     "metadata": {},
     "output_type": "execute_result"
    }
   ],
   "source": [
    "df = pd.read_csv('../attributes_dataset/max_temp.csv')\n",
    "df.date = pd.to_datetime(df.date, format='%Y-%m-%d')\n",
    "df.set_index('date', inplace=True)\n",
    "df.columns = ['y']\n",
    "df.head()"
   ]
  },
  {
   "cell_type": "markdown",
   "id": "7980a12f",
   "metadata": {},
   "source": [
    "# Convert Dataframe to Array"
   ]
  },
  {
   "cell_type": "code",
   "execution_count": 5,
   "id": "d80bab19",
   "metadata": {},
   "outputs": [],
   "source": [
    "def df_to_array(df, window_size):\n",
    "    df_y_np = df.y.to_numpy()\n",
    "    df_index_np = df.index.to_numpy()\n",
    "    \n",
    "    x = []\n",
    "    y = []\n",
    "    date = []\n",
    "    for i in range(len(df_index_np) - window_size):\n",
    "        row = [[a] for a in df_y_np[i:i+window_size]]\n",
    "        x.append(row)\n",
    "        label = df_y_np[i+window_size]\n",
    "        y.append(label)\n",
    "        index = df_index_np[i+window_size]\n",
    "        date.append(index)\n",
    "        \n",
    "    return np.array(x), np.array(y), np.array(date)"
   ]
  },
  {
   "cell_type": "markdown",
   "id": "6c5cad49",
   "metadata": {},
   "source": [
    "# Configure time step"
   ]
  },
  {
   "cell_type": "code",
   "execution_count": 6,
   "id": "0dc868c4",
   "metadata": {},
   "outputs": [],
   "source": [
    "WINDOW_SIZE = 20"
   ]
  },
  {
   "cell_type": "markdown",
   "id": "0a348f7b",
   "metadata": {},
   "source": [
    "# Split the Data"
   ]
  },
  {
   "cell_type": "code",
   "execution_count": 7,
   "id": "bdf90d23",
   "metadata": {},
   "outputs": [],
   "source": [
    "train_ratio = int(len(df) * 0.8)\n",
    "test_ratio = train_ratio + int(len(df) * 0.1)\n",
    "\n",
    "dtrain, dval, dtest = df.iloc[:train_ratio], df.iloc[(train_ratio - WINDOW_SIZE):test_ratio], df.iloc[(test_ratio - WINDOW_SIZE):]"
   ]
  },
  {
   "cell_type": "code",
   "execution_count": 8,
   "id": "27818eb8",
   "metadata": {},
   "outputs": [
    {
     "data": {
      "text/plain": [
       "[<matplotlib.lines.Line2D at 0x1f5793d6130>]"
      ]
     },
     "execution_count": 8,
     "metadata": {},
     "output_type": "execute_result"
    },
    {
     "data": {
      "image/png": "[encoded data removed]",
      "text/plain": [
       "<Figure size 1296x288 with 1 Axes>"
      ]
     },
     "metadata": {
      "needs_background": "light"
     },
     "output_type": "display_data"
    }
   ],
   "source": [
    "plt.figure(figsize=(18,4))\n",
    "plt.plot(dtrain)\n",
    "plt.plot(dval)\n",
    "plt.plot(dtest)"
   ]
  },
  {
   "cell_type": "markdown",
   "id": "a3e359c4",
   "metadata": {},
   "source": [
    "# Standarization for data train"
   ]
  },
  {
   "cell_type": "code",
   "execution_count": 9,
   "id": "10c4ffce",
   "metadata": {},
   "outputs": [],
   "source": [
    "dev_val = dtrain.std()[0]\n",
    "mean_val = dtrain.mean()[0]\n",
    "\n",
    "def make_std(data):\n",
    "    data_std = data    \n",
    "    data_std = (data_std-mean_val)/dev_val\n",
    "    \n",
    "    return data_std"
   ]
  },
  {
   "cell_type": "code",
   "execution_count": 10,
   "id": "9410e3ff",
   "metadata": {},
   "outputs": [],
   "source": [
    "dtrain_std = make_std(dtrain)"
   ]
  },
  {
   "cell_type": "code",
   "execution_count": 11,
   "id": "bdd177d7",
   "metadata": {},
   "outputs": [],
   "source": [
    "dval_std = make_std(dval)"
   ]
  },
  {
   "cell_type": "code",
   "execution_count": 12,
   "id": "4f1d287d",
   "metadata": {},
   "outputs": [],
   "source": [
    "dtest_std = make_std(dtest)"
   ]
  },
  {
   "cell_type": "code",
   "execution_count": 13,
   "id": "65b50af9",
   "metadata": {},
   "outputs": [
    {
     "data": {
      "text/plain": [
       "[<matplotlib.lines.Line2D at 0x1f5794f1220>]"
      ]
     },
     "execution_count": 13,
     "metadata": {},
     "output_type": "execute_result"
    },
    {
     "data": {
      "image/png": "[encoded data removed]",
      "text/plain": [
       "<Figure size 1296x288 with 1 Axes>"
      ]
     },
     "metadata": {
      "needs_background": "light"
     },
     "output_type": "display_data"
    }
   ],
   "source": [
    "plt.figure(figsize=(18,4))\n",
    "plt.plot(dtrain_std)\n",
    "plt.plot(dval_std)\n",
    "plt.plot(dtest_std)"
   ]
  },
  {
   "cell_type": "markdown",
   "id": "34e589c2",
   "metadata": {},
   "source": [
    "# De-standarization Function"
   ]
  },
  {
   "cell_type": "code",
   "execution_count": 14,
   "id": "a9673ee9",
   "metadata": {},
   "outputs": [],
   "source": [
    "def de_std(df):\n",
    "    column = ['Predictions', 'Actuals']\n",
    "    for index, row in df.iterrows():\n",
    "        for col in column:\n",
    "            val = df.loc[index, col]\n",
    "            df.loc[index, col] = (dev_val * val) + mean_val        "
   ]
  },
  {
   "cell_type": "markdown",
   "id": "fbea211e",
   "metadata": {},
   "source": [
    "# Executing Forecast"
   ]
  },
  {
   "cell_type": "code",
   "execution_count": 15,
   "id": "831e55a2",
   "metadata": {},
   "outputs": [],
   "source": [
    "def execute_forecast(pred, actual, date):\n",
    "    df_result = pd.DataFrame(data={'date': date, 'Predictions': pred, 'Actuals': actual})\n",
    "    df_result.set_index('date', inplace=True)\n",
    "    \n",
    "    de_std(df_result)\n",
    "    \n",
    "    plt.figure(figsize=(18,8))\n",
    "    plt.plot(df_result['Actuals'], 'r--')\n",
    "    plt.plot(df_result['Predictions'], 'b')\n",
    "\n",
    "    plt.show()\n",
    "    \n",
    "    MAE = mean_absolute_error(df_result['Actuals'], df_result['Predictions'])\n",
    "    RMSE = sqrt(mean_squared_error(df_result['Actuals'], df_result['Predictions']))\n",
    "\n",
    "    print(f'Mean Absolute Error is\\t\\t: {MAE}')\n",
    "    print(f'Root Mean Squared Error is\\t: {RMSE}')\n",
    "    \n",
    "    return df_result, MAE, RMSE"
   ]
  },
  {
   "cell_type": "markdown",
   "id": "170c6c06",
   "metadata": {},
   "source": [
    "## Get x and y values"
   ]
  },
  {
   "cell_type": "code",
   "execution_count": 16,
   "id": "bf7d45a4",
   "metadata": {},
   "outputs": [],
   "source": [
    "X_train, y_train, date_train = df_to_array(dtrain_std, WINDOW_SIZE)\n",
    "X_val, y_val, date_val = df_to_array(dval_std, WINDOW_SIZE)\n",
    "X_test, y_test, date_test = df_to_array(dtest_std, WINDOW_SIZE)"
   ]
  },
  {
   "cell_type": "markdown",
   "id": "be7b45ea",
   "metadata": {},
   "source": [
    "# Creating the Model"
   ]
  },
  {
   "cell_type": "code",
   "execution_count": 17,
   "id": "1b6e099b",
   "metadata": {},
   "outputs": [],
   "source": [
    "from tensorflow.keras.models import Sequential\n",
    "from tensorflow.keras.layers import *\n",
    "from tensorflow.keras.callbacks import ModelCheckpoint\n",
    "from tensorflow.keras.losses import MeanSquaredError\n",
    "from tensorflow.keras.metrics import RootMeanSquaredError\n",
    "from tensorflow.keras.optimizers import Adam"
   ]
  },
  {
   "cell_type": "code",
   "execution_count": 18,
   "id": "b9d8bc84",
   "metadata": {},
   "outputs": [],
   "source": [
    "model_loc = 'LSTM_models/'+ATTR_CODE+'_n'+str(NEURON_LAYER)+'_e'+str(EPOCH)+'/'"
   ]
  },
  {
   "cell_type": "markdown",
   "id": "fdf8951f",
   "metadata": {},
   "source": [
    "# Create and saving the Model"
   ]
  },
  {
   "cell_type": "code",
   "execution_count": 19,
   "id": "72ba47e6",
   "metadata": {},
   "outputs": [
    {
     "name": "stdout",
     "output_type": "stream",
     "text": [
      "Model: \"sequential\"\n",
      "_________________________________________________________________\n",
      " Layer (type)                Output Shape              Param #   \n",
      "=================================================================\n",
      " lstm (LSTM)                 (None, 128)               66560     \n",
      "                                                                 \n",
      " dense (Dense)               (None, 64)                8256      \n",
      "                                                                 \n",
      " dense_1 (Dense)             (None, 1)                 65        \n",
      "                                                                 \n",
      "=================================================================\n",
      "Total params: 74,881\n",
      "Trainable params: 74,881\n",
      "Non-trainable params: 0\n",
      "_________________________________________________________________\n"
     ]
    }
   ],
   "source": [
    "model = Sequential()\n",
    "model.add(InputLayer((WINDOW_SIZE,1)))\n",
    "model.add(LSTM(NEURON_LAYER))\n",
    "model.add(Dense(64, 'relu'))\n",
    "model.add(Dense(1, 'linear'))\n",
    "\n",
    "model.summary()"
   ]
  },
  {
   "cell_type": "code",
   "execution_count": 20,
   "id": "0735f666",
   "metadata": {},
   "outputs": [],
   "source": [
    "cp = ModelCheckpoint(model_loc, save_best_only=True)"
   ]
  },
  {
   "cell_type": "code",
   "execution_count": 21,
   "id": "5bc7d6b7",
   "metadata": {},
   "outputs": [],
   "source": [
    "model.compile(loss=MeanSquaredError(), optimizer=Adam(learning_rate=0.0001), metrics=[RootMeanSquaredError()])"
   ]
  },
  {
   "cell_type": "code",
   "execution_count": 22,
   "id": "d7533a7b",
   "metadata": {},
   "outputs": [
    {
     "name": "stdout",
     "output_type": "stream",
     "text": [
      "Epoch 1/100\n",
      "53/54 [============================>.] - ETA: 0s - loss: 0.8711 - root_mean_squared_error: 0.9333"
     ]
    },
    {
     "name": "stderr",
     "output_type": "stream",
     "text": [
      "WARNING:absl:Found untraced functions such as lstm_cell_layer_call_fn, lstm_cell_layer_call_and_return_conditional_losses while saving (showing 2 of 2). These functions will not be directly callable after loading.\n"
     ]
    },
    {
     "name": "stdout",
     "output_type": "stream",
     "text": [
      "INFO:tensorflow:Assets written to: LSTM_models/mxt_n128_e100\\assets\n"
     ]
    },
    {
     "name": "stderr",
     "output_type": "stream",
     "text": [
      "INFO:tensorflow:Assets written to: LSTM_models/mxt_n128_e100\\assets\n",
      "WARNING:absl:<keras.layers.recurrent.LSTMCell object at 0x000001F57A7DF070> has the same name 'LSTMCell' as a built-in Keras object. Consider renaming <class 'keras.layers.recurrent.LSTMCell'> to avoid naming conflicts when loading with `tf.keras.models.load_model`. If renaming is not possible, pass the object in the `custom_objects` parameter of the load function.\n"
     ]
    },
    {
     "name": "stdout",
     "output_type": "stream",
     "text": [
      "54/54 [==============================] - 13s 199ms/step - loss: 0.8707 - root_mean_squared_error: 0.9331 - val_loss: 0.7878 - val_root_mean_squared_error: 0.8876\n",
      "Epoch 2/100\n",
      "54/54 [==============================] - 6s 116ms/step - loss: 0.7946 - root_mean_squared_error: 0.8914 - val_loss: 0.7916 - val_root_mean_squared_error: 0.8897\n",
      "Epoch 3/100\n",
      "54/54 [==============================] - 6s 111ms/step - loss: 0.7795 - root_mean_squared_error: 0.8829 - val_loss: 0.7886 - val_root_mean_squared_error: 0.8880\n",
      "Epoch 4/100\n",
      "53/54 [============================>.] - ETA: 0s - loss: 0.7686 - root_mean_squared_error: 0.8767"
     ]
    },
    {
     "name": "stderr",
     "output_type": "stream",
     "text": [
      "WARNING:absl:Found untraced functions such as lstm_cell_layer_call_fn, lstm_cell_layer_call_and_return_conditional_losses while saving (showing 2 of 2). These functions will not be directly callable after loading.\n"
     ]
    },
    {
     "name": "stdout",
     "output_type": "stream",
     "text": [
      "INFO:tensorflow:Assets written to: LSTM_models/mxt_n128_e100\\assets\n"
     ]
    },
    {
     "name": "stderr",
     "output_type": "stream",
     "text": [
      "INFO:tensorflow:Assets written to: LSTM_models/mxt_n128_e100\\assets\n",
      "WARNING:absl:<keras.layers.recurrent.LSTMCell object at 0x000001F57A7DF070> has the same name 'LSTMCell' as a built-in Keras object. Consider renaming <class 'keras.layers.recurrent.LSTMCell'> to avoid naming conflicts when loading with `tf.keras.models.load_model`. If renaming is not possible, pass the object in the `custom_objects` parameter of the load function.\n"
     ]
    },
    {
     "name": "stdout",
     "output_type": "stream",
     "text": [
      "54/54 [==============================] - 10s 181ms/step - loss: 0.7689 - root_mean_squared_error: 0.8768 - val_loss: 0.7878 - val_root_mean_squared_error: 0.8876\n",
      "Epoch 5/100\n",
      "54/54 [==============================] - 5s 97ms/step - loss: 0.7598 - root_mean_squared_error: 0.8717 - val_loss: 0.7881 - val_root_mean_squared_error: 0.8877\n",
      "Epoch 6/100\n",
      "54/54 [==============================] - 6s 107ms/step - loss: 0.7537 - root_mean_squared_error: 0.8681 - val_loss: 0.7910 - val_root_mean_squared_error: 0.8894\n",
      "Epoch 7/100\n",
      "53/54 [============================>.] - ETA: 0s - loss: 0.7523 - root_mean_squared_error: 0.8674"
     ]
    },
    {
     "name": "stderr",
     "output_type": "stream",
     "text": [
      "WARNING:absl:Found untraced functions such as lstm_cell_layer_call_fn, lstm_cell_layer_call_and_return_conditional_losses while saving (showing 2 of 2). These functions will not be directly callable after loading.\n"
     ]
    },
    {
     "name": "stdout",
     "output_type": "stream",
     "text": [
      "INFO:tensorflow:Assets written to: LSTM_models/mxt_n128_e100\\assets\n"
     ]
    },
    {
     "name": "stderr",
     "output_type": "stream",
     "text": [
      "INFO:tensorflow:Assets written to: LSTM_models/mxt_n128_e100\\assets\n",
      "WARNING:absl:<keras.layers.recurrent.LSTMCell object at 0x000001F57A7DF070> has the same name 'LSTMCell' as a built-in Keras object. Consider renaming <class 'keras.layers.recurrent.LSTMCell'> to avoid naming conflicts when loading with `tf.keras.models.load_model`. If renaming is not possible, pass the object in the `custom_objects` parameter of the load function.\n"
     ]
    },
    {
     "name": "stdout",
     "output_type": "stream",
     "text": [
      "54/54 [==============================] - 9s 177ms/step - loss: 0.7519 - root_mean_squared_error: 0.8671 - val_loss: 0.7849 - val_root_mean_squared_error: 0.8859\n",
      "Epoch 8/100\n",
      "53/54 [============================>.] - ETA: 0s - loss: 0.7460 - root_mean_squared_error: 0.8637"
     ]
    },
    {
     "name": "stderr",
     "output_type": "stream",
     "text": [
      "WARNING:absl:Found untraced functions such as lstm_cell_layer_call_fn, lstm_cell_layer_call_and_return_conditional_losses while saving (showing 2 of 2). These functions will not be directly callable after loading.\n"
     ]
    },
    {
     "name": "stdout",
     "output_type": "stream",
     "text": [
      "INFO:tensorflow:Assets written to: LSTM_models/mxt_n128_e100\\assets\n"
     ]
    },
    {
     "name": "stderr",
     "output_type": "stream",
     "text": [
      "INFO:tensorflow:Assets written to: LSTM_models/mxt_n128_e100\\assets\n",
      "WARNING:absl:<keras.layers.recurrent.LSTMCell object at 0x000001F57A7DF070> has the same name 'LSTMCell' as a built-in Keras object. Consider renaming <class 'keras.layers.recurrent.LSTMCell'> to avoid naming conflicts when loading with `tf.keras.models.load_model`. If renaming is not possible, pass the object in the `custom_objects` parameter of the load function.\n"
     ]
    },
    {
     "name": "stdout",
     "output_type": "stream",
     "text": [
      "54/54 [==============================] - 9s 175ms/step - loss: 0.7457 - root_mean_squared_error: 0.8635 - val_loss: 0.7839 - val_root_mean_squared_error: 0.8854\n",
      "Epoch 9/100\n",
      "53/54 [============================>.] - ETA: 0s - loss: 0.7449 - root_mean_squared_error: 0.8631"
     ]
    },
    {
     "name": "stderr",
     "output_type": "stream",
     "text": [
      "WARNING:absl:Found untraced functions such as lstm_cell_layer_call_fn, lstm_cell_layer_call_and_return_conditional_losses while saving (showing 2 of 2). These functions will not be directly callable after loading.\n"
     ]
    },
    {
     "name": "stdout",
     "output_type": "stream",
     "text": [
      "INFO:tensorflow:Assets written to: LSTM_models/mxt_n128_e100\\assets\n"
     ]
    },
    {
     "name": "stderr",
     "output_type": "stream",
     "text": [
      "INFO:tensorflow:Assets written to: LSTM_models/mxt_n128_e100\\assets\n",
      "WARNING:absl:<keras.layers.recurrent.LSTMCell object at 0x000001F57A7DF070> has the same name 'LSTMCell' as a built-in Keras object. Consider renaming <class 'keras.layers.recurrent.LSTMCell'> to avoid naming conflicts when loading with `tf.keras.models.load_model`. If renaming is not possible, pass the object in the `custom_objects` parameter of the load function.\n"
     ]
    },
    {
     "name": "stdout",
     "output_type": "stream",
     "text": [
      "54/54 [==============================] - 9s 172ms/step - loss: 0.7449 - root_mean_squared_error: 0.8630 - val_loss: 0.7809 - val_root_mean_squared_error: 0.8837\n",
      "Epoch 10/100\n",
      "53/54 [============================>.] - ETA: 0s - loss: 0.7468 - root_mean_squared_error: 0.8642"
     ]
    },
    {
     "name": "stderr",
     "output_type": "stream",
     "text": [
      "WARNING:absl:Found untraced functions such as lstm_cell_layer_call_fn, lstm_cell_layer_call_and_return_conditional_losses while saving (showing 2 of 2). These functions will not be directly callable after loading.\n"
     ]
    },
    {
     "name": "stdout",
     "output_type": "stream",
     "text": [
      "INFO:tensorflow:Assets written to: LSTM_models/mxt_n128_e100\\assets\n"
     ]
    },
    {
     "name": "stderr",
     "output_type": "stream",
     "text": [
      "INFO:tensorflow:Assets written to: LSTM_models/mxt_n128_e100\\assets\n",
      "WARNING:absl:<keras.layers.recurrent.LSTMCell object at 0x000001F57A7DF070> has the same name 'LSTMCell' as a built-in Keras object. Consider renaming <class 'keras.layers.recurrent.LSTMCell'> to avoid naming conflicts when loading with `tf.keras.models.load_model`. If renaming is not possible, pass the object in the `custom_objects` parameter of the load function.\n"
     ]
    },
    {
     "name": "stdout",
     "output_type": "stream",
     "text": [
      "54/54 [==============================] - 10s 178ms/step - loss: 0.7464 - root_mean_squared_error: 0.8639 - val_loss: 0.7782 - val_root_mean_squared_error: 0.8822\n",
      "Epoch 11/100\n",
      "54/54 [==============================] - 5s 96ms/step - loss: 0.7407 - root_mean_squared_error: 0.8606 - val_loss: 0.7789 - val_root_mean_squared_error: 0.8826\n",
      "Epoch 12/100\n",
      "54/54 [==============================] - 5s 97ms/step - loss: 0.7383 - root_mean_squared_error: 0.8592 - val_loss: 0.7804 - val_root_mean_squared_error: 0.8834\n",
      "Epoch 13/100\n",
      "54/54 [==============================] - 5s 98ms/step - loss: 0.7370 - root_mean_squared_error: 0.8585 - val_loss: 0.7787 - val_root_mean_squared_error: 0.8824\n",
      "Epoch 14/100\n",
      "54/54 [==============================] - 5s 101ms/step - loss: 0.7406 - root_mean_squared_error: 0.8606 - val_loss: 0.7841 - val_root_mean_squared_error: 0.8855\n",
      "Epoch 15/100\n",
      "53/54 [============================>.] - ETA: 0s - loss: 0.7368 - root_mean_squared_error: 0.8584"
     ]
    },
    {
     "name": "stderr",
     "output_type": "stream",
     "text": [
      "WARNING:absl:Found untraced functions such as lstm_cell_layer_call_fn, lstm_cell_layer_call_and_return_conditional_losses while saving (showing 2 of 2). These functions will not be directly callable after loading.\n"
     ]
    },
    {
     "name": "stdout",
     "output_type": "stream",
     "text": [
      "INFO:tensorflow:Assets written to: LSTM_models/mxt_n128_e100\\assets\n"
     ]
    },
    {
     "name": "stderr",
     "output_type": "stream",
     "text": [
      "INFO:tensorflow:Assets written to: LSTM_models/mxt_n128_e100\\assets\n",
      "WARNING:absl:<keras.layers.recurrent.LSTMCell object at 0x000001F57A7DF070> has the same name 'LSTMCell' as a built-in Keras object. Consider renaming <class 'keras.layers.recurrent.LSTMCell'> to avoid naming conflicts when loading with `tf.keras.models.load_model`. If renaming is not possible, pass the object in the `custom_objects` parameter of the load function.\n"
     ]
    },
    {
     "name": "stdout",
     "output_type": "stream",
     "text": [
      "54/54 [==============================] - 9s 174ms/step - loss: 0.7365 - root_mean_squared_error: 0.8582 - val_loss: 0.7781 - val_root_mean_squared_error: 0.8821\n",
      "Epoch 16/100\n",
      "53/54 [============================>.] - ETA: 0s - loss: 0.7350 - root_mean_squared_error: 0.8573"
     ]
    },
    {
     "name": "stderr",
     "output_type": "stream",
     "text": [
      "WARNING:absl:Found untraced functions such as lstm_cell_layer_call_fn, lstm_cell_layer_call_and_return_conditional_losses while saving (showing 2 of 2). These functions will not be directly callable after loading.\n"
     ]
    },
    {
     "name": "stdout",
     "output_type": "stream",
     "text": [
      "INFO:tensorflow:Assets written to: LSTM_models/mxt_n128_e100\\assets\n"
     ]
    },
    {
     "name": "stderr",
     "output_type": "stream",
     "text": [
      "INFO:tensorflow:Assets written to: LSTM_models/mxt_n128_e100\\assets\n",
      "WARNING:absl:<keras.layers.recurrent.LSTMCell object at 0x000001F57A7DF070> has the same name 'LSTMCell' as a built-in Keras object. Consider renaming <class 'keras.layers.recurrent.LSTMCell'> to avoid naming conflicts when loading with `tf.keras.models.load_model`. If renaming is not possible, pass the object in the `custom_objects` parameter of the load function.\n"
     ]
    },
    {
     "name": "stdout",
     "output_type": "stream",
     "text": [
      "54/54 [==============================] - 10s 183ms/step - loss: 0.7350 - root_mean_squared_error: 0.8573 - val_loss: 0.7774 - val_root_mean_squared_error: 0.8817\n",
      "Epoch 17/100\n",
      "53/54 [============================>.] - ETA: 0s - loss: 0.7345 - root_mean_squared_error: 0.8570"
     ]
    },
    {
     "name": "stderr",
     "output_type": "stream",
     "text": [
      "WARNING:absl:Found untraced functions such as lstm_cell_layer_call_fn, lstm_cell_layer_call_and_return_conditional_losses while saving (showing 2 of 2). These functions will not be directly callable after loading.\n"
     ]
    },
    {
     "name": "stdout",
     "output_type": "stream",
     "text": [
      "INFO:tensorflow:Assets written to: LSTM_models/mxt_n128_e100\\assets\n"
     ]
    },
    {
     "name": "stderr",
     "output_type": "stream",
     "text": [
      "INFO:tensorflow:Assets written to: LSTM_models/mxt_n128_e100\\assets\n",
      "WARNING:absl:<keras.layers.recurrent.LSTMCell object at 0x000001F57A7DF070> has the same name 'LSTMCell' as a built-in Keras object. Consider renaming <class 'keras.layers.recurrent.LSTMCell'> to avoid naming conflicts when loading with `tf.keras.models.load_model`. If renaming is not possible, pass the object in the `custom_objects` parameter of the load function.\n"
     ]
    },
    {
     "name": "stdout",
     "output_type": "stream",
     "text": [
      "54/54 [==============================] - 12s 221ms/step - loss: 0.7346 - root_mean_squared_error: 0.8571 - val_loss: 0.7744 - val_root_mean_squared_error: 0.8800\n",
      "Epoch 18/100\n",
      "54/54 [==============================] - 6s 111ms/step - loss: 0.7357 - root_mean_squared_error: 0.8577 - val_loss: 0.7782 - val_root_mean_squared_error: 0.8822\n",
      "Epoch 19/100\n",
      "54/54 [==============================] - 7s 134ms/step - loss: 0.7324 - root_mean_squared_error: 0.8558 - val_loss: 0.7785 - val_root_mean_squared_error: 0.8823\n",
      "Epoch 20/100\n",
      "54/54 [==============================] - 6s 113ms/step - loss: 0.7321 - root_mean_squared_error: 0.8556 - val_loss: 0.7751 - val_root_mean_squared_error: 0.8804\n",
      "Epoch 21/100\n",
      "54/54 [==============================] - 5s 100ms/step - loss: 0.7314 - root_mean_squared_error: 0.8552 - val_loss: 0.7772 - val_root_mean_squared_error: 0.8816\n",
      "Epoch 22/100\n",
      "54/54 [==============================] - 6s 110ms/step - loss: 0.7305 - root_mean_squared_error: 0.8547 - val_loss: 0.7748 - val_root_mean_squared_error: 0.8802\n",
      "Epoch 23/100\n",
      "54/54 [==============================] - 6s 104ms/step - loss: 0.7298 - root_mean_squared_error: 0.8543 - val_loss: 0.7768 - val_root_mean_squared_error: 0.8814\n",
      "Epoch 24/100\n",
      "53/54 [============================>.] - ETA: 0s - loss: 0.7321 - root_mean_squared_error: 0.8556"
     ]
    },
    {
     "name": "stderr",
     "output_type": "stream",
     "text": [
      "WARNING:absl:Found untraced functions such as lstm_cell_layer_call_fn, lstm_cell_layer_call_and_return_conditional_losses while saving (showing 2 of 2). These functions will not be directly callable after loading.\n"
     ]
    },
    {
     "name": "stdout",
     "output_type": "stream",
     "text": [
      "INFO:tensorflow:Assets written to: LSTM_models/mxt_n128_e100\\assets\n"
     ]
    },
    {
     "name": "stderr",
     "output_type": "stream",
     "text": [
      "INFO:tensorflow:Assets written to: LSTM_models/mxt_n128_e100\\assets\n",
      "WARNING:absl:<keras.layers.recurrent.LSTMCell object at 0x000001F57A7DF070> has the same name 'LSTMCell' as a built-in Keras object. Consider renaming <class 'keras.layers.recurrent.LSTMCell'> to avoid naming conflicts when loading with `tf.keras.models.load_model`. If renaming is not possible, pass the object in the `custom_objects` parameter of the load function.\n"
     ]
    },
    {
     "name": "stdout",
     "output_type": "stream",
     "text": [
      "54/54 [==============================] - 10s 182ms/step - loss: 0.7317 - root_mean_squared_error: 0.8554 - val_loss: 0.7741 - val_root_mean_squared_error: 0.8798\n",
      "Epoch 25/100\n",
      "54/54 [==============================] - 5s 100ms/step - loss: 0.7295 - root_mean_squared_error: 0.8541 - val_loss: 0.7768 - val_root_mean_squared_error: 0.8813\n",
      "Epoch 26/100\n",
      "54/54 [==============================] - 6s 107ms/step - loss: 0.7273 - root_mean_squared_error: 0.8528 - val_loss: 0.7754 - val_root_mean_squared_error: 0.8806\n",
      "Epoch 27/100\n",
      "54/54 [==============================] - 6s 114ms/step - loss: 0.7280 - root_mean_squared_error: 0.8532 - val_loss: 0.7751 - val_root_mean_squared_error: 0.8804\n",
      "Epoch 28/100\n",
      "54/54 [==============================] - 6s 114ms/step - loss: 0.7284 - root_mean_squared_error: 0.8535 - val_loss: 0.7773 - val_root_mean_squared_error: 0.8816\n",
      "Epoch 29/100\n",
      "54/54 [==============================] - 5s 101ms/step - loss: 0.7265 - root_mean_squared_error: 0.8523 - val_loss: 0.7792 - val_root_mean_squared_error: 0.8827\n",
      "Epoch 30/100\n",
      "54/54 [==============================] - 6s 105ms/step - loss: 0.7266 - root_mean_squared_error: 0.8524 - val_loss: 0.7786 - val_root_mean_squared_error: 0.8824\n",
      "Epoch 31/100\n",
      "54/54 [==============================] - 6s 112ms/step - loss: 0.7252 - root_mean_squared_error: 0.8516 - val_loss: 0.7783 - val_root_mean_squared_error: 0.8822\n",
      "Epoch 32/100\n",
      "54/54 [==============================] - 6s 109ms/step - loss: 0.7244 - root_mean_squared_error: 0.8511 - val_loss: 0.7820 - val_root_mean_squared_error: 0.8843\n",
      "Epoch 33/100\n",
      "54/54 [==============================] - 6s 112ms/step - loss: 0.7232 - root_mean_squared_error: 0.8504 - val_loss: 0.7810 - val_root_mean_squared_error: 0.8838\n",
      "Epoch 34/100\n",
      "54/54 [==============================] - 6s 109ms/step - loss: 0.7243 - root_mean_squared_error: 0.8511 - val_loss: 0.7775 - val_root_mean_squared_error: 0.8818\n",
      "Epoch 35/100\n",
      "54/54 [==============================] - 6s 105ms/step - loss: 0.7228 - root_mean_squared_error: 0.8502 - val_loss: 0.7816 - val_root_mean_squared_error: 0.8841\n",
      "Epoch 36/100\n",
      "54/54 [==============================] - 6s 107ms/step - loss: 0.7245 - root_mean_squared_error: 0.8512 - val_loss: 0.7866 - val_root_mean_squared_error: 0.8869\n",
      "Epoch 37/100\n",
      "54/54 [==============================] - 6s 103ms/step - loss: 0.7229 - root_mean_squared_error: 0.8502 - val_loss: 0.7818 - val_root_mean_squared_error: 0.8842\n",
      "Epoch 38/100\n",
      "54/54 [==============================] - 7s 122ms/step - loss: 0.7235 - root_mean_squared_error: 0.8506 - val_loss: 0.7832 - val_root_mean_squared_error: 0.8850\n",
      "Epoch 39/100\n",
      "54/54 [==============================] - 6s 115ms/step - loss: 0.7216 - root_mean_squared_error: 0.8495 - val_loss: 0.7793 - val_root_mean_squared_error: 0.8828\n",
      "Epoch 40/100\n",
      "54/54 [==============================] - 6s 109ms/step - loss: 0.7220 - root_mean_squared_error: 0.8497 - val_loss: 0.7803 - val_root_mean_squared_error: 0.8833\n",
      "Epoch 41/100\n",
      "54/54 [==============================] - 6s 105ms/step - loss: 0.7217 - root_mean_squared_error: 0.8495 - val_loss: 0.7812 - val_root_mean_squared_error: 0.8838\n",
      "Epoch 42/100\n",
      "54/54 [==============================] - 6s 103ms/step - loss: 0.7199 - root_mean_squared_error: 0.8485 - val_loss: 0.7807 - val_root_mean_squared_error: 0.8836\n",
      "Epoch 43/100\n",
      "54/54 [==============================] - 6s 102ms/step - loss: 0.7201 - root_mean_squared_error: 0.8486 - val_loss: 0.7795 - val_root_mean_squared_error: 0.8829\n",
      "Epoch 44/100\n",
      "54/54 [==============================] - 5s 102ms/step - loss: 0.7208 - root_mean_squared_error: 0.8490 - val_loss: 0.7799 - val_root_mean_squared_error: 0.8831\n",
      "Epoch 45/100\n",
      "54/54 [==============================] - 6s 106ms/step - loss: 0.7180 - root_mean_squared_error: 0.8473 - val_loss: 0.7809 - val_root_mean_squared_error: 0.8837\n",
      "Epoch 46/100\n",
      "54/54 [==============================] - 6s 108ms/step - loss: 0.7175 - root_mean_squared_error: 0.8470 - val_loss: 0.7771 - val_root_mean_squared_error: 0.8816\n",
      "Epoch 47/100\n",
      "54/54 [==============================] - 6s 113ms/step - loss: 0.7153 - root_mean_squared_error: 0.8458 - val_loss: 0.7817 - val_root_mean_squared_error: 0.8841\n",
      "Epoch 48/100\n",
      "54/54 [==============================] - 6s 107ms/step - loss: 0.7149 - root_mean_squared_error: 0.8455 - val_loss: 0.7785 - val_root_mean_squared_error: 0.8823\n",
      "Epoch 49/100\n",
      "54/54 [==============================] - 6s 106ms/step - loss: 0.7155 - root_mean_squared_error: 0.8459 - val_loss: 0.7814 - val_root_mean_squared_error: 0.8840\n",
      "Epoch 50/100\n",
      "54/54 [==============================] - 5s 100ms/step - loss: 0.7160 - root_mean_squared_error: 0.8462 - val_loss: 0.7794 - val_root_mean_squared_error: 0.8828\n",
      "Epoch 51/100\n",
      "54/54 [==============================] - 6s 103ms/step - loss: 0.7167 - root_mean_squared_error: 0.8466 - val_loss: 0.7776 - val_root_mean_squared_error: 0.8818\n",
      "Epoch 52/100\n",
      "54/54 [==============================] - 6s 114ms/step - loss: 0.7182 - root_mean_squared_error: 0.8475 - val_loss: 0.7789 - val_root_mean_squared_error: 0.8826\n",
      "Epoch 53/100\n",
      "54/54 [==============================] - 6s 110ms/step - loss: 0.7141 - root_mean_squared_error: 0.8450 - val_loss: 0.7765 - val_root_mean_squared_error: 0.8812\n",
      "Epoch 54/100\n",
      "54/54 [==============================] - 6s 104ms/step - loss: 0.7142 - root_mean_squared_error: 0.8451 - val_loss: 0.7782 - val_root_mean_squared_error: 0.8821\n",
      "Epoch 55/100\n",
      "54/54 [==============================] - 6s 107ms/step - loss: 0.7163 - root_mean_squared_error: 0.8463 - val_loss: 0.7795 - val_root_mean_squared_error: 0.8829\n",
      "Epoch 56/100\n",
      "54/54 [==============================] - 6s 112ms/step - loss: 0.7217 - root_mean_squared_error: 0.8495 - val_loss: 0.7876 - val_root_mean_squared_error: 0.8875\n",
      "Epoch 57/100\n",
      "54/54 [==============================] - 6s 112ms/step - loss: 0.7137 - root_mean_squared_error: 0.8448 - val_loss: 0.7886 - val_root_mean_squared_error: 0.8880\n",
      "Epoch 58/100\n",
      "54/54 [==============================] - 6s 106ms/step - loss: 0.7151 - root_mean_squared_error: 0.8456 - val_loss: 0.7813 - val_root_mean_squared_error: 0.8839\n",
      "Epoch 59/100\n",
      "54/54 [==============================] - 5s 99ms/step - loss: 0.7125 - root_mean_squared_error: 0.8441 - val_loss: 0.7870 - val_root_mean_squared_error: 0.8871\n",
      "Epoch 60/100\n",
      "54/54 [==============================] - 5s 99ms/step - loss: 0.7120 - root_mean_squared_error: 0.8438 - val_loss: 0.7914 - val_root_mean_squared_error: 0.8896\n",
      "Epoch 61/100\n",
      "54/54 [==============================] - 6s 109ms/step - loss: 0.7101 - root_mean_squared_error: 0.8427 - val_loss: 0.7820 - val_root_mean_squared_error: 0.8843\n",
      "Epoch 62/100\n",
      "54/54 [==============================] - 5s 97ms/step - loss: 0.7080 - root_mean_squared_error: 0.8414 - val_loss: 0.7890 - val_root_mean_squared_error: 0.8882\n",
      "Epoch 63/100\n",
      "54/54 [==============================] - 5s 101ms/step - loss: 0.7091 - root_mean_squared_error: 0.8421 - val_loss: 0.7830 - val_root_mean_squared_error: 0.8849\n",
      "Epoch 64/100\n",
      "54/54 [==============================] - 6s 103ms/step - loss: 0.7089 - root_mean_squared_error: 0.8420 - val_loss: 0.7905 - val_root_mean_squared_error: 0.8891\n",
      "Epoch 65/100\n",
      "54/54 [==============================] - 6s 102ms/step - loss: 0.7087 - root_mean_squared_error: 0.8419 - val_loss: 0.7851 - val_root_mean_squared_error: 0.8861\n",
      "Epoch 66/100\n",
      "54/54 [==============================] - 5s 97ms/step - loss: 0.7066 - root_mean_squared_error: 0.8406 - val_loss: 0.7831 - val_root_mean_squared_error: 0.8849\n",
      "Epoch 67/100\n",
      "54/54 [==============================] - 5s 99ms/step - loss: 0.7107 - root_mean_squared_error: 0.8430 - val_loss: 0.7852 - val_root_mean_squared_error: 0.8861\n",
      "Epoch 68/100\n",
      "54/54 [==============================] - 6s 108ms/step - loss: 0.7124 - root_mean_squared_error: 0.8441 - val_loss: 0.7810 - val_root_mean_squared_error: 0.8837\n",
      "Epoch 69/100\n",
      "54/54 [==============================] - 6s 106ms/step - loss: 0.7070 - root_mean_squared_error: 0.8409 - val_loss: 0.7799 - val_root_mean_squared_error: 0.8831\n",
      "Epoch 70/100\n",
      "54/54 [==============================] - 6s 103ms/step - loss: 0.7116 - root_mean_squared_error: 0.8436 - val_loss: 0.7925 - val_root_mean_squared_error: 0.8902\n",
      "Epoch 71/100\n"
     ]
    },
    {
     "name": "stdout",
     "output_type": "stream",
     "text": [
      "54/54 [==============================] - 5s 101ms/step - loss: 0.7071 - root_mean_squared_error: 0.8409 - val_loss: 0.7783 - val_root_mean_squared_error: 0.8822\n",
      "Epoch 72/100\n",
      "54/54 [==============================] - 6s 111ms/step - loss: 0.7089 - root_mean_squared_error: 0.8420 - val_loss: 0.7814 - val_root_mean_squared_error: 0.8840\n",
      "Epoch 73/100\n",
      "54/54 [==============================] - 6s 103ms/step - loss: 0.7046 - root_mean_squared_error: 0.8394 - val_loss: 0.7921 - val_root_mean_squared_error: 0.8900\n",
      "Epoch 74/100\n",
      "54/54 [==============================] - 6s 106ms/step - loss: 0.7029 - root_mean_squared_error: 0.8384 - val_loss: 0.7902 - val_root_mean_squared_error: 0.8889\n",
      "Epoch 75/100\n",
      "54/54 [==============================] - 6s 104ms/step - loss: 0.7037 - root_mean_squared_error: 0.8389 - val_loss: 0.7865 - val_root_mean_squared_error: 0.8869\n",
      "Epoch 76/100\n",
      "54/54 [==============================] - 6s 113ms/step - loss: 0.7064 - root_mean_squared_error: 0.8405 - val_loss: 0.7804 - val_root_mean_squared_error: 0.8834\n",
      "Epoch 77/100\n",
      "54/54 [==============================] - 6s 102ms/step - loss: 0.7030 - root_mean_squared_error: 0.8385 - val_loss: 0.7871 - val_root_mean_squared_error: 0.8872\n",
      "Epoch 78/100\n",
      "54/54 [==============================] - 6s 104ms/step - loss: 0.7194 - root_mean_squared_error: 0.8482 - val_loss: 0.7868 - val_root_mean_squared_error: 0.8870\n",
      "Epoch 79/100\n",
      "54/54 [==============================] - 6s 104ms/step - loss: 0.7049 - root_mean_squared_error: 0.8396 - val_loss: 0.7908 - val_root_mean_squared_error: 0.8893\n",
      "Epoch 80/100\n",
      "54/54 [==============================] - 6s 112ms/step - loss: 0.7030 - root_mean_squared_error: 0.8384 - val_loss: 0.7870 - val_root_mean_squared_error: 0.8871\n",
      "Epoch 81/100\n",
      "54/54 [==============================] - 6s 111ms/step - loss: 0.7006 - root_mean_squared_error: 0.8370 - val_loss: 0.7840 - val_root_mean_squared_error: 0.8854\n",
      "Epoch 82/100\n",
      "54/54 [==============================] - 6s 105ms/step - loss: 0.7007 - root_mean_squared_error: 0.8371 - val_loss: 0.7923 - val_root_mean_squared_error: 0.8901\n",
      "Epoch 83/100\n",
      "54/54 [==============================] - 6s 103ms/step - loss: 0.7027 - root_mean_squared_error: 0.8383 - val_loss: 0.7884 - val_root_mean_squared_error: 0.8879\n",
      "Epoch 84/100\n",
      "54/54 [==============================] - 6s 112ms/step - loss: 0.7034 - root_mean_squared_error: 0.8387 - val_loss: 0.7772 - val_root_mean_squared_error: 0.8816\n",
      "Epoch 85/100\n",
      "54/54 [==============================] - 6s 115ms/step - loss: 0.7018 - root_mean_squared_error: 0.8377 - val_loss: 0.7815 - val_root_mean_squared_error: 0.8840\n",
      "Epoch 86/100\n",
      "54/54 [==============================] - 6s 109ms/step - loss: 0.7097 - root_mean_squared_error: 0.8424 - val_loss: 0.7940 - val_root_mean_squared_error: 0.8911\n",
      "Epoch 87/100\n",
      "54/54 [==============================] - 6s 107ms/step - loss: 0.6997 - root_mean_squared_error: 0.8365 - val_loss: 0.7896 - val_root_mean_squared_error: 0.8886\n",
      "Epoch 88/100\n",
      "54/54 [==============================] - 6s 111ms/step - loss: 0.7069 - root_mean_squared_error: 0.8407 - val_loss: 0.8018 - val_root_mean_squared_error: 0.8955\n",
      "Epoch 89/100\n",
      "54/54 [==============================] - 6s 112ms/step - loss: 0.7126 - root_mean_squared_error: 0.8442 - val_loss: 0.7813 - val_root_mean_squared_error: 0.8839\n",
      "Epoch 90/100\n",
      "54/54 [==============================] - 5s 101ms/step - loss: 0.6979 - root_mean_squared_error: 0.8354 - val_loss: 0.7829 - val_root_mean_squared_error: 0.8848\n",
      "Epoch 91/100\n",
      "54/54 [==============================] - 6s 104ms/step - loss: 0.6967 - root_mean_squared_error: 0.8347 - val_loss: 0.7887 - val_root_mean_squared_error: 0.8881\n",
      "Epoch 92/100\n",
      "54/54 [==============================] - 5s 97ms/step - loss: 0.7003 - root_mean_squared_error: 0.8369 - val_loss: 0.7944 - val_root_mean_squared_error: 0.8913\n",
      "Epoch 93/100\n",
      "54/54 [==============================] - 5s 98ms/step - loss: 0.6970 - root_mean_squared_error: 0.8349 - val_loss: 0.7853 - val_root_mean_squared_error: 0.8862\n",
      "Epoch 94/100\n",
      "54/54 [==============================] - 6s 114ms/step - loss: 0.6952 - root_mean_squared_error: 0.8338 - val_loss: 0.7858 - val_root_mean_squared_error: 0.8864\n",
      "Epoch 95/100\n",
      "54/54 [==============================] - 6s 120ms/step - loss: 0.6952 - root_mean_squared_error: 0.8338 - val_loss: 0.7887 - val_root_mean_squared_error: 0.8881\n",
      "Epoch 96/100\n",
      "54/54 [==============================] - 6s 106ms/step - loss: 0.6967 - root_mean_squared_error: 0.8347 - val_loss: 0.7904 - val_root_mean_squared_error: 0.8890\n",
      "Epoch 97/100\n",
      "54/54 [==============================] - 6s 108ms/step - loss: 0.6946 - root_mean_squared_error: 0.8334 - val_loss: 0.7850 - val_root_mean_squared_error: 0.8860\n",
      "Epoch 98/100\n",
      "54/54 [==============================] - 6s 109ms/step - loss: 0.6957 - root_mean_squared_error: 0.8341 - val_loss: 0.7821 - val_root_mean_squared_error: 0.8844\n",
      "Epoch 99/100\n",
      "54/54 [==============================] - 6s 118ms/step - loss: 0.6957 - root_mean_squared_error: 0.8341 - val_loss: 0.7861 - val_root_mean_squared_error: 0.8866\n",
      "Epoch 100/100\n",
      "54/54 [==============================] - 6s 119ms/step - loss: 0.6924 - root_mean_squared_error: 0.8321 - val_loss: 0.7860 - val_root_mean_squared_error: 0.8865\n",
      "Wall time: 10min 20s\n"
     ]
    },
    {
     "data": {
      "text/plain": [
       "<keras.callbacks.History at 0x1f57a8636a0>"
      ]
     },
     "execution_count": 22,
     "metadata": {},
     "output_type": "execute_result"
    }
   ],
   "source": [
    "%%time\n",
    "model.fit(X_train, y_train, validation_data=(X_val, y_val), epochs=EPOCH, callbacks=[cp])"
   ]
  },
  {
   "cell_type": "markdown",
   "id": "7d029a84",
   "metadata": {},
   "source": [
    "# Load the Model"
   ]
  },
  {
   "cell_type": "code",
   "execution_count": 23,
   "id": "eff62190",
   "metadata": {},
   "outputs": [
    {
     "ename": "NameError",
     "evalue": "name 'load_model' is not defined",
     "output_type": "error",
     "traceback": [
      "\u001b[1;31m---------------------------------------------------------------------------\u001b[0m",
      "\u001b[1;31mNameError\u001b[0m                                 Traceback (most recent call last)",
      "\u001b[1;32m<ipython-input-23-50535519e743>\u001b[0m in \u001b[0;36m<module>\u001b[1;34m\u001b[0m\n\u001b[1;32m----> 1\u001b[1;33m \u001b[0mmodel1\u001b[0m \u001b[1;33m=\u001b[0m \u001b[0mload_model\u001b[0m\u001b[1;33m(\u001b[0m\u001b[0mmodel_loc\u001b[0m\u001b[1;33m)\u001b[0m\u001b[1;33m\u001b[0m\u001b[1;33m\u001b[0m\u001b[0m\n\u001b[0m",
      "\u001b[1;31mNameError\u001b[0m: name 'load_model' is not defined"
     ]
    }
   ],
   "source": [
    "model1 = load_model(model_loc)"
   ]
  },
  {
   "cell_type": "code",
   "execution_count": null,
   "id": "ff903caf",
   "metadata": {},
   "outputs": [],
   "source": [
    "model1.summary()"
   ]
  },
  {
   "cell_type": "markdown",
   "id": "c3315963",
   "metadata": {},
   "source": [
    "## Train Results"
   ]
  },
  {
   "cell_type": "code",
   "execution_count": null,
   "id": "cd47e918",
   "metadata": {},
   "outputs": [],
   "source": [
    "train_res = model1.predict(X_train).flatten()"
   ]
  },
  {
   "cell_type": "code",
   "execution_count": null,
   "id": "e3b086b0",
   "metadata": {},
   "outputs": [],
   "source": [
    "train_df, train_MAE, train_RMSE = execute_forecast(train_res, y_train, date_train)"
   ]
  },
  {
   "cell_type": "markdown",
   "id": "0305f46a",
   "metadata": {},
   "source": [
    "## Validation Results"
   ]
  },
  {
   "cell_type": "code",
   "execution_count": null,
   "id": "4d733bbc",
   "metadata": {},
   "outputs": [],
   "source": [
    "val_res = model1.predict(X_val).flatten()"
   ]
  },
  {
   "cell_type": "code",
   "execution_count": null,
   "id": "ca5ff8de",
   "metadata": {},
   "outputs": [],
   "source": [
    "val_df, val_MAE, val_RMSE = execute_forecast(val_res, y_val, date_val)"
   ]
  },
  {
   "cell_type": "markdown",
   "id": "0892e35f",
   "metadata": {},
   "source": [
    "# Updating data validation to model"
   ]
  },
  {
   "cell_type": "code",
   "execution_count": null,
   "id": "e3f68e83",
   "metadata": {},
   "outputs": [],
   "source": [
    "model_val_loc = model_loc[:-1] + '_val/'"
   ]
  },
  {
   "cell_type": "code",
   "execution_count": null,
   "id": "69b4873f",
   "metadata": {},
   "outputs": [],
   "source": [
    "u_cp = ModelCheckpoint(model_val_loc, save_best_only=True)"
   ]
  },
  {
   "cell_type": "code",
   "execution_count": null,
   "id": "abc75b46",
   "metadata": {},
   "outputs": [],
   "source": [
    "%%time\n",
    "model1.fit(X_val, y_val, validation_data=(X_test, y_test), epochs=EPOCH, callbacks=[u_cp])"
   ]
  },
  {
   "cell_type": "markdown",
   "id": "cd556615",
   "metadata": {},
   "source": [
    "## Test Results"
   ]
  },
  {
   "cell_type": "code",
   "execution_count": null,
   "id": "65ea1c9d",
   "metadata": {},
   "outputs": [],
   "source": [
    "model2 = load_model(model_val_loc)"
   ]
  },
  {
   "cell_type": "code",
   "execution_count": null,
   "id": "a10ea082",
   "metadata": {},
   "outputs": [],
   "source": [
    "test_res = model2.predict(X_test).flatten()"
   ]
  },
  {
   "cell_type": "code",
   "execution_count": null,
   "id": "f4e29197",
   "metadata": {},
   "outputs": [],
   "source": [
    "test_df, test_MAE, test_RMSE = execute_forecast(test_res, y_test, date_test)"
   ]
  },
  {
   "cell_type": "markdown",
   "id": "07c36246",
   "metadata": {},
   "source": [
    "# k-period forecast"
   ]
  },
  {
   "cell_type": "code",
   "execution_count": null,
   "id": "10aab6a0",
   "metadata": {},
   "outputs": [],
   "source": [
    "def one_step_forecast(model, X):\n",
    "    X_val = np.array(X)\n",
    "    result = model.predict(X_val).flatten()\n",
    "    X_val_update = []\n",
    "    \n",
    "    for lags in X_val:\n",
    "        lags_update = []\n",
    "        \n",
    "        for value in lags:\n",
    "            lags_update.append(value)\n",
    "        \n",
    "        lags_update.append(result)\n",
    "        lags_update = lags_update[1:]\n",
    "        \n",
    "        X_val_update.append(lags_update)\n",
    "    \n",
    "    return result, np.array(X_val_update)"
   ]
  },
  {
   "cell_type": "code",
   "execution_count": null,
   "id": "fcaa4a56",
   "metadata": {},
   "outputs": [],
   "source": [
    "def LSTM_forecast(model, period, x_input):\n",
    "    x_input = [x_input]\n",
    "    final_result = []\n",
    "    iteration = 0\n",
    "    while iteration < period:\n",
    "        result, x_input = one_step_forecast(model, x_input)\n",
    "        final_result.append(result[0])\n",
    "        iteration += 1\n",
    "    return np.array(final_result), x_input"
   ]
  },
  {
   "cell_type": "code",
   "execution_count": null,
   "id": "2bb3f288",
   "metadata": {},
   "outputs": [],
   "source": [
    "def get_period_forecast(model, X, period, date, y_act=[]):\n",
    "    res = []\n",
    "    pred_date = []\n",
    "    for i in np.arange(0, len(X), period):\n",
    "        X_start = X[i]\n",
    "        result, __ = LSTM_forecast(model, period=period, x_input=X_start)\n",
    "        \n",
    "        ## updating model\n",
    "        if len(y_act) > 0:\n",
    "            for prd in range(0,period):\n",
    "                if (i+prd) < len(X):\n",
    "                    X_up = np.reshape(X[i+prd], (1, X.shape[1], X.shape[2]))\n",
    "                    y_up = np.reshape(y_act[i+prd], (1,))\n",
    "                    print(f\"({i+prd}/{len(X)-1}) updating {date[i+prd]} into model\")\n",
    "                    model.fit(X_up, y_up, epochs=1)\n",
    "                    \n",
    "        res.append(result)\n",
    "        pred_date.append(date[i])\n",
    "    return np.array(res), np.array(pred_date)"
   ]
  },
  {
   "cell_type": "code",
   "execution_count": null,
   "id": "76ed2b00",
   "metadata": {},
   "outputs": [],
   "source": [
    "def collect_k_res(k_res, length):\n",
    "    res_val = []\n",
    "    counter = 0\n",
    "    for pred in k_res:\n",
    "        for val in pred:\n",
    "            if counter < length:\n",
    "                res_val.append(val)\n",
    "            counter += 1\n",
    "    return np.array(res_val)"
   ]
  },
  {
   "cell_type": "code",
   "execution_count": null,
   "id": "8f56123e",
   "metadata": {},
   "outputs": [],
   "source": [
    "def period_forecast(model, period, X, y, date):\n",
    "    k_res, k_date = get_period_forecast(model, X, period, date, y_act=y)\n",
    "    k_res_val = collect_k_res(k_res, len(X))\n",
    "    return k_res_val"
   ]
  },
  {
   "cell_type": "code",
   "execution_count": null,
   "id": "1d021326",
   "metadata": {},
   "outputs": [],
   "source": [
    "def forcast_scene(model_loc, period, X, y, date):\n",
    "    sc_model = load_model(model_loc)\n",
    "    sc_frc = period_forecast(sc_model, period=period, X=X, y=y, date=date)\n",
    "    sc_df, sc_MAE, sc_RMSE = execute_forecast(sc_frc, y_test, date_test)\n",
    "    return sc_df, sc_MAE, sc_RMSE"
   ]
  },
  {
   "cell_type": "markdown",
   "id": "fdbe3bf1",
   "metadata": {},
   "source": [
    "# Forecasting scenario"
   ]
  },
  {
   "cell_type": "code",
   "execution_count": null,
   "id": "889a7729",
   "metadata": {},
   "outputs": [],
   "source": [
    "sc1_df, sc1_MAE, sc1_RMSE = forcast_scene(model_val_loc, period=1, X=X_test, y=y_test, date=date_test)"
   ]
  },
  {
   "cell_type": "code",
   "execution_count": null,
   "id": "7ac8e0ff",
   "metadata": {},
   "outputs": [],
   "source": [
    "sc2_df, sc2_MAE, sc2_RMSE = forcast_scene(model_val_loc, period=3, X=X_test, y=y_test, date=date_test)"
   ]
  },
  {
   "cell_type": "code",
   "execution_count": null,
   "id": "59f4c36c",
   "metadata": {},
   "outputs": [],
   "source": [
    "sc3_df, sc3_MAE, sc3_RMSE = forcast_scene(model_val_loc, period=7, X=X_test, y=y_test, date=date_test)"
   ]
  },
  {
   "cell_type": "code",
   "execution_count": null,
   "id": "81511338",
   "metadata": {},
   "outputs": [],
   "source": []
  },
  {
   "cell_type": "markdown",
   "id": "9dbd7b7c",
   "metadata": {},
   "source": [
    "# Collecting All Predictions Scenario Result"
   ]
  },
  {
   "cell_type": "code",
   "execution_count": null,
   "id": "20ad3316",
   "metadata": {},
   "outputs": [],
   "source": [
    "def plot_forecasts_result(df):\n",
    "    title = 'Peramalan ' + ATTR_NAME + ' LSTM'\n",
    "    \n",
    "    plt.figure(figsize=(18,8))\n",
    "    plt.title(title)\n",
    "    plt.plot(df['scn-1'], 'r-', label='1-step forecast')\n",
    "    plt.plot(df['scn-2'], 'b-', label='3-step forecast')\n",
    "    plt.plot(df['scn-3'], 'g-', label='7-step forecast')\n",
    "    plt.plot(df['Actuals'], color='black', linestyle=':' , label='Actuals')\n",
    "    plt.legend()"
   ]
  },
  {
   "cell_type": "code",
   "execution_count": null,
   "id": "ac7d88b2",
   "metadata": {},
   "outputs": [],
   "source": [
    "def col_forcasts_err(res_df):\n",
    "    for col in [x for x in range(len(forecasts_result.columns)-1)]:\n",
    "        col_name = res_df.columns[col]\n",
    "        MAE = mean_absolute_error(res_df['Actuals'], res_df[col_name])\n",
    "        RMSE = sqrt(mean_squared_error(res_df['Actuals'], res_df[col_name]))\n",
    "        print('Error for ', col_name)\n",
    "        print(f'Mean Absolute Error is\\t\\t: {MAE}')\n",
    "        print(f'Root Mean Squared Error is\\t: {RMSE}')\n",
    "        print()"
   ]
  },
  {
   "cell_type": "code",
   "execution_count": null,
   "id": "5c57deb0",
   "metadata": {},
   "outputs": [],
   "source": [
    "sc1_df_cp = sc1_df.copy()\n",
    "sc1_df_cp.columns = ['scn-1', 'Actuals']\n",
    "\n",
    "sc2_df_cp = sc2_df.copy()\n",
    "sc2_df_cp.columns = ['scn-2', 'Actuals']\n",
    "\n",
    "sc3_df_cp = sc3_df.copy()\n",
    "sc3_df_cp.columns = ['scn-3', 'Actuals']"
   ]
  },
  {
   "cell_type": "code",
   "execution_count": null,
   "id": "93b96eee",
   "metadata": {},
   "outputs": [],
   "source": [
    "forecasts_result = pd.concat([sc1_df_cp[[sc1_df_cp.columns[0]]],\n",
    "                              sc2_df_cp[[sc2_df_cp.columns[0]]],\n",
    "                              sc3_df_cp[[sc3_df_cp.columns[0]]],\n",
    "                              sc1_df_cp[[sc3_df_cp.columns[1]]]\n",
    "                             ],\n",
    "                               axis='columns')"
   ]
  },
  {
   "cell_type": "code",
   "execution_count": null,
   "id": "191317df",
   "metadata": {},
   "outputs": [],
   "source": [
    "plot_forecasts_result(forecasts_result)"
   ]
  },
  {
   "cell_type": "code",
   "execution_count": null,
   "id": "02bfe2cb",
   "metadata": {},
   "outputs": [],
   "source": [
    "col_forcasts_err(forecasts_result)"
   ]
  },
  {
   "cell_type": "markdown",
   "id": "123df6d8",
   "metadata": {},
   "source": [
    "## Saving forecasts result"
   ]
  },
  {
   "cell_type": "code",
   "execution_count": null,
   "id": "672e79ce",
   "metadata": {},
   "outputs": [],
   "source": [
    "forecasts_result.to_csv('LSTM_results_temp/'+ATTR_CODE+'_n'+str(NEURON_LAYER)+'_e'+str(EPOCH)+'.csv')"
   ]
  },
  {
   "cell_type": "markdown",
   "id": "73d46fb7",
   "metadata": {},
   "source": [
    "# Calling Forecasting Result"
   ]
  },
  {
   "cell_type": "code",
   "execution_count": null,
   "id": "50d84e60",
   "metadata": {},
   "outputs": [],
   "source": [
    "FILE_NEURON = NEURON_LAYER\n",
    "FILE_EPOCH = EPOCH"
   ]
  },
  {
   "cell_type": "code",
   "execution_count": null,
   "id": "6e2576b9",
   "metadata": {},
   "outputs": [],
   "source": [
    "df_call = pd.read_csv('LSTM_results_temp/'+ATTR_CODE+'_n'+str(FILE_NEURON)+'_e'+str(FILE_EPOCH)+'.csv')\n",
    "df_call.date = pd.to_datetime(df_call.date, format='%Y-%m-%d')\n",
    "df_call.set_index('date', inplace=True)\n",
    "df_call.head()"
   ]
  },
  {
   "cell_type": "code",
   "execution_count": null,
   "id": "262ac3ca",
   "metadata": {},
   "outputs": [],
   "source": [
    "plot_forecasts_result(df_call)"
   ]
  },
  {
   "cell_type": "code",
   "execution_count": null,
   "id": "e443a9d9",
   "metadata": {},
   "outputs": [],
   "source": [
    "col_forcasts_err(df_call)"
   ]
  }
 ],
 "metadata": {
  "kernelspec": {
   "display_name": "Python 3",
   "language": "python",
   "name": "python3"
  },
  "language_info": {
   "codemirror_mode": {
    "name": "ipython",
    "version": 3
   },
   "file_extension": ".py",
   "mimetype": "text/x-python",
   "name": "python",
   "nbconvert_exporter": "python",
   "pygments_lexer": "ipython3",
   "version": "3.8.8"
  }
 },
 "nbformat": 4,
 "nbformat_minor": 5
}
